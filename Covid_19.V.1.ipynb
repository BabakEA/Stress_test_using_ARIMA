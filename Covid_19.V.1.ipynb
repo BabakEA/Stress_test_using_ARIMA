{
 "cells": [
  {
   "cell_type": "markdown",
   "metadata": {},
   "source": [
    "# <center>  A simple Stress test on Covid Dataset using ARIMA </center>\n",
    "\n",
    "<ul>\n",
    "  <li> <font color=\"green\">Author :  </font> <bold> Babak.EA </bold> </li>\n",
    "  <li> <font color=\"green\">Date &nbsp; :  </font>  2020-03-20, Persian New year </li>\n",
    "  <li> <font color=\"green\">Target :  </font> ARIMA stress test on infected population per Country </li>\n",
    "</ul>\n",
    "\n"
   ]
  },
  {
   "cell_type": "code",
   "execution_count": 4,
   "metadata": {},
   "outputs": [],
   "source": [
    "import data.Covid_19_Babak as covid\n",
    "from data.Covid_19_Babak import Covid,Country_select"
   ]
  },
  {
   "cell_type": "code",
   "execution_count": 5,
   "metadata": {},
   "outputs": [
    {
     "data": {
      "application/vnd.jupyter.widget-view+json": {
       "model_id": "a05b0edeb7e1489286b48d226cae6874",
       "version_major": 2,
       "version_minor": 0
      },
      "text/plain": [
       "Dropdown(description='Select Country: ', options=('ALL', 'Afghanistan', 'Albania', 'Algeria', 'Andorra', 'Anti…"
      ]
     },
     "metadata": {},
     "output_type": "display_data"
    },
    {
     "data": {
      "application/vnd.jupyter.widget-view+json": {
       "model_id": "5c757722b6e04478a5de3f074410a757",
       "version_major": 2,
       "version_minor": 0
      },
      "text/plain": [
       "Output()"
      ]
     },
     "metadata": {},
     "output_type": "display_data"
    },
    {
     "data": {
      "text/plain": [
       "<data.Covid_19_Babak.Country_select at 0x216c2e38348>"
      ]
     },
     "execution_count": 5,
     "metadata": {},
     "output_type": "execute_result"
    }
   ],
   "source": [
    "Country_select()"
   ]
  },
  {
   "cell_type": "code",
   "execution_count": null,
   "metadata": {},
   "outputs": [],
   "source": []
  }
 ],
 "metadata": {
  "kernelspec": {
   "display_name": "Python 3",
   "language": "python",
   "name": "python3"
  },
  "language_info": {
   "codemirror_mode": {
    "name": "ipython",
    "version": 3
   },
   "file_extension": ".py",
   "mimetype": "text/x-python",
   "name": "python",
   "nbconvert_exporter": "python",
   "pygments_lexer": "ipython3",
   "version": "3.7.6"
  }
 },
 "nbformat": 4,
 "nbformat_minor": 4
}
